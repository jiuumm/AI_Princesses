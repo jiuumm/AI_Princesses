{
 "cells": [
  {
   "cell_type": "code",
   "execution_count": null,
   "id": "c52ec012",
   "metadata": {},
   "outputs": [],
   "source": [
    "!pip install -U sentence-transformers"
   ]
  },
  {
   "cell_type": "code",
   "execution_count": 3,
   "id": "92f65ac0",
   "metadata": {},
   "outputs": [],
   "source": [
    "from sentence_transformers import SentenceTransformer, util\n",
    "import numpy as np"
   ]
  },
  {
   "cell_type": "code",
   "execution_count": 9,
   "id": "1d51bdb5",
   "metadata": {
    "collapsed": true
   },
   "outputs": [
    {
     "name": "stdout",
     "output_type": "stream",
     "text": [
      "Requirement already satisfied: pip in c:\\users\\dbwld\\anaconda3\\lib\\site-packages (25.0)\n",
      "Collecting pip\n",
      "  Using cached pip-25.0.1-py3-none-any.whl.metadata (3.7 kB)\n",
      "Using cached pip-25.0.1-py3-none-any.whl (1.8 MB)\n",
      "Installing collected packages: pip\n",
      "  Attempting uninstall: pip\n",
      "    Found existing installation: pip 25.0\n",
      "    Uninstalling pip-25.0:\n",
      "      Successfully uninstalled pip-25.0\n",
      "Successfully installed pip-25.0.1\n"
     ]
    }
   ],
   "source": [
    "!python.exe -m pip install --upgrade pip"
   ]
  },
  {
   "cell_type": "code",
   "execution_count": null,
   "id": "c8654bcc",
   "metadata": {},
   "outputs": [],
   "source": [
    "from sentence_transformers import SentenceTransformer, util"
   ]
  },
  {
   "cell_type": "code",
   "execution_count": 4,
   "id": "6a330ac1",
   "metadata": {},
   "outputs": [
    {
     "name": "stdout",
     "output_type": "stream",
     "text": [
      "Top similar symptoms: [(0.34735554, '정신이 멍하고 맑지 않아서 집중하기가 힘들어요. 자주 일을 잊어버리고 기억하는 데 어려움을 겪고 있어요. 집중하려고 해도 자꾸 산만해지고 주의를 오래 유지하기가 어려워요.', '정신 및 건강'), (0.32731092, '요즘 몸이 너무 피곤하고, 하루 종일 쉬어도 전혀 회복된 느낌이 없어요. 조금만 움직여도 너무 지쳐서 몸이 힘들어요. 기억력이 떨어지고, 생각도 잘 안 나고 집중이 안 돼요. 누워 있다가 일어나면 어지러움이 심해지고, 근육이나 관절도 자주 아파요. 잠을 자도 전혀 개운하지 않고, 피로가 계속 쌓이는 것 같아요.\\n가끔은 머리가 아프고, 목이 아프거나 부어오르기도 해요. 목이나 겨드랑이 림프절도 아프고 예민해요. 빛이나 소리, 냄새, 음식, 약물에도 예민해져서 더 불편해져요.', '수면 및 정신')]\n",
      "추천 제품 (유사도 기준): [('유단백가수분해물', 0.49488497, '(가) 어린이나 임산부, 수유부는 섭취를 주의해야 함\\n(나) 충분한 물과 함께 섭취해야 함\\n(다) 과다 섭취 시 미약한 설사, 구토, 배변량 증가, 배변빈도 증가, 복부 팽만, 두통 등의 부작용을 일으킬 수 있음'), ('돌외잎추출물(기능성원료인정제2015-7호)', 0.46292204, '(1) 과량 섭취 시 위장장애(구토와 위장운동 증가)가 발생할 수 있음 (2) 아스피린, 혈액항응고제 복용 시 섭취에 주의'), ('돌외잎추출물(제2015-7호)', 0.46292204, '①기관지 천식, 해소 기침이나 기도에 심한 염증이 있는 사람은 사용을 금하시기 바랍니다.')]\n",
      "최종 추천 제품: ['유단백가수분해물', '돌외잎추출물(기능성원료인정제2015-7호)', '돌외잎추출물(제2015-7호)']\n"
     ]
    }
   ],
   "source": [
    "# 필요한 라이브러리 설치 (최초 1회 실행)\n",
    "!pip install -q sentence-transformers openpyxl\n",
    "\n",
    "from sentence_transformers import SentenceTransformer\n",
    "import pandas as pd\n",
    "import numpy as np\n",
    "from sklearn.metrics.pairwise import cosine_similarity\n",
    "\n",
    "# 1. 모델 로드\n",
    "model = SentenceTransformer('distiluse-base-multilingual-cased-v1')\n",
    "\n",
    "# 2. 데이터 로드\n",
    "# symptom_data: 증상 관련 데이터, 'text' (증상 텍스트)와 '건강 카테고리' 컬럼 포함\n",
    "# material_data: 제품 관련 데이터, '품목명', '건강 카테고리', '주요 기능', '섭취 주의사항' 컬럼 포함\n",
    "symptom_data = pd.read_excel(\"C:\\\\Users\\\\dbwld\\\\OneDrive\\\\바탕 화면\\\\Project\\\\symptom_data.xlsx\")\n",
    "material_data = pd.read_excel(\"C:\\\\Users\\\\dbwld\\\\OneDrive\\\\바탕 화면\\\\Project\\\\combined_data.xlsx\")\n",
    "\n",
    "# 3. 사용자 입력 및 임베딩 계산\n",
    "user_symptom = \"스트레스를 많이 받아요.\"\n",
    "user_embedding = model.encode(user_symptom)\n",
    "\n",
    "# 4. 증상 데이터에서 사용자 증상과 유사한 증상 찾기\n",
    "symptom_similarities = []\n",
    "for idx, row in symptom_data.iterrows():\n",
    "    symptom_text = row['text']\n",
    "    # 각 증상의 임베딩 계산\n",
    "    symptom_embedding = model.encode(symptom_text)\n",
    "    # 코사인 유사도 계산 (입력은 2차원 배열)\n",
    "    sim = cosine_similarity([user_embedding], [symptom_embedding])[0][0]\n",
    "    symptom_similarities.append((sim, symptom_text, row['건강 카테고리']))\n",
    "\n",
    "# 유사도가 높은 상위 2개 증상 선택\n",
    "top_similar_symptoms = sorted(symptom_similarities, key=lambda x: x[0], reverse=True)[:2]\n",
    "print(\"Top similar symptoms:\", top_similar_symptoms)\n",
    "\n",
    "# 5. 상위 증상에서 추출한 건강 카테고리 사용\n",
    "similar_categories = [item[2] for item in top_similar_symptoms]\n",
    "\n",
    "# 6. 제품 데이터에서 해당 건강 카테고리에 속하는 제품 중 유사도 높은 제품 추천\n",
    "recommended_products = []\n",
    "for idx, row in material_data.iterrows():\n",
    "    if row['건강 카테고리'] in similar_categories:\n",
    "        product_embedding = model.encode(row['주요 기능'])\n",
    "        sim_score = cosine_similarity([user_embedding], [product_embedding])[0][0]\n",
    "        recommended_products.append((row['품목명'], sim_score, row['섭취 주의사항']))\n",
    "\n",
    "# 유사도가 높은 상위 3개 제품 선택\n",
    "recommended_products = sorted(recommended_products, key=lambda x: x[1], reverse=True)[:3]\n",
    "print(\"추천 제품 (유사도 기준):\", recommended_products)\n",
    "\n",
    "\n",
    "#지병 및 특이사항 제외하는 코드\n",
    "model = SentenceTransformer('snunlp/KR-SBERT-V40K-klueNLI-augSTS')\n",
    "# 6. 사용자가 입력한 지병 또는 특이사항에 대해 제품의 섭취 주의사항이 안전한지 판단하는 함수\n",
    "# 6. 각 번호별로 안전 여부를 개별 평가하는 함수\n",
    "def is_safe_for_condition(product_warning, user_condition, threshold=0.45):\n",
    "    \"\"\"\n",
    "    product_warning: 제품의 섭취 주의사항 전체 텍스트 (여러 항목이 '\\n'으로 구분되어 있다고 가정)\n",
    "    user_condition: 사용자가 입력한 지병 또는 특이사항 (예: \"알레르기가 있음\")\n",
    "    threshold: 각 항목과 사용자의 입력 간 코사인 유사도의 임계값\n",
    "    \n",
    "    반환: 모든 항목에 대해 유사도가 threshold 미만이면 True, \n",
    "          하나라도 threshold 이상이면 False로 판단 (해당 조건과 관련이 있다고 봄)\n",
    "    \"\"\"\n",
    "    # 줄바꿈을 기준으로 각 항목 분리\n",
    "    bullets = product_warning.split('\\n')\n",
    "    if len(bullets) == 0:\n",
    "        bullets = [product_warning]\n",
    "    for bullet in bullets:\n",
    "        bullet = bullet.strip()\n",
    "        if bullet == \"\":\n",
    "            continue\n",
    "        sim = util.cos_sim(model.encode([bullet]), model.encode([user_condition]))[0][0].item()\n",
    "        # 하나라도 사용자의 조건과 유사도가 임계값 이상이면, 해당 제품은 안전하지 않다고 판단\n",
    "        if sim >= threshold:\n",
    "            return False\n",
    "    return True\n",
    "\n",
    "# 7. 사용자가 입력한 조건 (예: \"알레르기가 있음\")\n",
    "input_disease = \"임산부에요\"\n",
    "\n",
    "# 8. 추천 제품 중, 각 항목별로 사용자 입력값과 비교하여 안전한 제품만 최종 추천 리스트에 포함\n",
    "final_recommendations = []\n",
    "for prod_name, score, warning in recommended_products:\n",
    "    if is_safe_for_condition(warning, input_disease, threshold=0.45):\n",
    "        final_recommendations.append(prod_name)\n",
    "\n",
    "print(\"최종 추천 제품:\", final_recommendations)"
   ]
  },
  {
   "cell_type": "code",
   "execution_count": null,
   "id": "7dc36b0c",
   "metadata": {},
   "outputs": [],
   "source": []
  },
  {
   "cell_type": "code",
   "execution_count": null,
   "id": "781cfd1c",
   "metadata": {},
   "outputs": [],
   "source": []
  }
 ],
 "metadata": {
  "kernelspec": {
   "display_name": "Python 3 (ipykernel)",
   "language": "python",
   "name": "python3"
  },
  "language_info": {
   "codemirror_mode": {
    "name": "ipython",
    "version": 3
   },
   "file_extension": ".py",
   "mimetype": "text/x-python",
   "name": "python",
   "nbconvert_exporter": "python",
   "pygments_lexer": "ipython3",
   "version": "3.9.13"
  }
 },
 "nbformat": 4,
 "nbformat_minor": 5
}
